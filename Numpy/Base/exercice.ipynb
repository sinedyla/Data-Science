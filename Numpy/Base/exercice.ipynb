{
 "cells": [
  {
   "cell_type": "markdown",
   "id": "a5980736",
   "metadata": {},
   "source": [
    "# **Exercices Fondamentaux NumPy**"
   ]
  },
  {
   "cell_type": "markdown",
   "id": "a7e53d50",
   "metadata": {},
   "source": [
    "1. Écrivez un programme NumPy pour obtenir la version de NumPy et afficher la configuration de compilation de NumPy."
   ]
  },
  {
   "cell_type": "code",
   "execution_count": 1,
   "id": "6aa1c90e",
   "metadata": {},
   "outputs": [
    {
     "name": "stdout",
     "output_type": "stream",
     "text": [
      "Version de NumPy : 2.2.5\n",
      "\n",
      "Configuration de compilation de NumPy :\n",
      "{\n",
      "  \"Compilers\": {\n",
      "    \"c\": {\n",
      "      \"name\": \"msvc\",\n",
      "      \"linker\": \"link\",\n",
      "      \"version\": \"19.29.30159\",\n",
      "      \"commands\": \"cl\"\n",
      "    },\n",
      "    \"cython\": {\n",
      "      \"name\": \"cython\",\n",
      "      \"linker\": \"cython\",\n",
      "      \"version\": \"3.0.12\",\n",
      "      \"commands\": \"cython\"\n",
      "    },\n",
      "    \"c++\": {\n",
      "      \"name\": \"msvc\",\n",
      "      \"linker\": \"link\",\n",
      "      \"version\": \"19.29.30159\",\n",
      "      \"commands\": \"cl\"\n",
      "    }\n",
      "  },\n",
      "  \"Machine Information\": {\n",
      "    \"host\": {\n",
      "      \"cpu\": \"x86_64\",\n",
      "      \"family\": \"x86_64\",\n",
      "      \"endian\": \"little\",\n",
      "      \"system\": \"windows\"\n",
      "    },\n",
      "    \"build\": {\n",
      "      \"cpu\": \"x86_64\",\n",
      "      \"family\": \"x86_64\",\n",
      "      \"endian\": \"little\",\n",
      "      \"system\": \"windows\"\n",
      "    }\n",
      "  },\n",
      "  \"Build Dependencies\": {\n",
      "    \"blas\": {\n",
      "      \"name\": \"scipy-openblas\",\n",
      "      \"found\": true,\n",
      "      \"version\": \"0.3.28\",\n",
      "      \"detection method\": \"pkgconfig\",\n",
      "      \"include directory\": \"C:/Users/runneradmin/AppData/Local/Temp/cibw-run-065080rt/cp313-win_amd64/build/venv/Lib/site-packages/scipy_openblas64/include\",\n",
      "      \"lib directory\": \"C:/Users/runneradmin/AppData/Local/Temp/cibw-run-065080rt/cp313-win_amd64/build/venv/Lib/site-packages/scipy_openblas64/lib\",\n",
      "      \"openblas configuration\": \"OpenBLAS 0.3.28  USE64BITINT DYNAMIC_ARCH NO_AFFINITY Haswell MAX_THREADS=24\",\n",
      "      \"pc file directory\": \"D:/a/numpy/numpy/.openblas\"\n",
      "    },\n",
      "    \"lapack\": {\n",
      "      \"name\": \"scipy-openblas\",\n",
      "      \"found\": true,\n",
      "      \"version\": \"0.3.28\",\n",
      "      \"detection method\": \"pkgconfig\",\n",
      "      \"include directory\": \"C:/Users/runneradmin/AppData/Local/Temp/cibw-run-065080rt/cp313-win_amd64/build/venv/Lib/site-packages/scipy_openblas64/include\",\n",
      "      \"lib directory\": \"C:/Users/runneradmin/AppData/Local/Temp/cibw-run-065080rt/cp313-win_amd64/build/venv/Lib/site-packages/scipy_openblas64/lib\",\n",
      "      \"openblas configuration\": \"OpenBLAS 0.3.28  USE64BITINT DYNAMIC_ARCH NO_AFFINITY Haswell MAX_THREADS=24\",\n",
      "      \"pc file directory\": \"D:/a/numpy/numpy/.openblas\"\n",
      "    }\n",
      "  },\n",
      "  \"Python Information\": {\n",
      "    \"path\": \"C:\\\\Users\\\\runneradmin\\\\AppData\\\\Local\\\\Temp\\\\build-env-19lia66t\\\\Scripts\\\\python.exe\",\n",
      "    \"version\": \"3.13\"\n",
      "  },\n",
      "  \"SIMD Extensions\": {\n",
      "    \"baseline\": [\n",
      "      \"SSE\",\n",
      "      \"SSE2\",\n",
      "      \"SSE3\"\n",
      "    ],\n",
      "    \"found\": [\n",
      "      \"SSSE3\",\n",
      "      \"SSE41\",\n",
      "      \"POPCNT\",\n",
      "      \"SSE42\",\n",
      "      \"AVX\",\n",
      "      \"F16C\",\n",
      "      \"FMA3\",\n",
      "      \"AVX2\"\n",
      "    ],\n",
      "    \"not found\": [\n",
      "      \"AVX512F\",\n",
      "      \"AVX512CD\",\n",
      "      \"AVX512_SKX\",\n",
      "      \"AVX512_CLX\",\n",
      "      \"AVX512_CNL\",\n",
      "      \"AVX512_ICL\"\n",
      "    ]\n",
      "  }\n",
      "}\n",
      "None\n"
     ]
    },
    {
     "name": "stderr",
     "output_type": "stream",
     "text": [
      "c:\\Python313\\Lib\\site-packages\\numpy\\__config__.py:155: UserWarning: Install `pyyaml` for better output\n",
      "  warnings.warn(\"Install `pyyaml` for better output\", stacklevel=1)\n"
     ]
    }
   ],
   "source": [
    "import numpy as np\n",
    "print(f\"Version de NumPy : {np.__version__}\")\n",
    "print(\"\\nConfiguration de compilation de NumPy :\")\n",
    "print(np.show_config())"
   ]
  },
  {
   "cell_type": "markdown",
   "id": "ce9a365b",
   "metadata": {},
   "source": [
    "2. Écrivez un programme NumPy pour obtenir de l'aide sur la fonction d'addition (add)."
   ]
  },
  {
   "cell_type": "code",
   "execution_count": 2,
   "id": "21f67870",
   "metadata": {},
   "outputs": [
    {
     "name": "stdout",
     "output_type": "stream",
     "text": [
      "\n",
      "Aide sur la fonction d'addition (add) :\n",
      "Help on ufunc in module numpy:\n",
      "\n",
      "add = <ufunc 'add'>\n",
      "    add(x1, x2, /, out=None, *, where=True, casting='same_kind', order='K', dtype=None, subok=True[, signature])\n",
      "\n",
      "    Add arguments element-wise.\n",
      "\n",
      "    Parameters\n",
      "    ----------\n",
      "    x1, x2 : array_like\n",
      "        The arrays to be added.\n",
      "        If ``x1.shape != x2.shape``, they must be broadcastable to a common\n",
      "        shape (which becomes the shape of the output).\n",
      "    out : ndarray, None, or tuple of ndarray and None, optional\n",
      "        A location into which the result is stored. If provided, it must have\n",
      "        a shape that the inputs broadcast to. If not provided or None,\n",
      "        a freshly-allocated array is returned. A tuple (possible only as a\n",
      "        keyword argument) must have length equal to the number of outputs.\n",
      "    where : array_like, optional\n",
      "        This condition is broadcast over the input. At locations where the\n",
      "        condition is True, the `out` array will be set to the ufunc result.\n",
      "        Elsewhere, the `out` array will retain its original value.\n",
      "        Note that if an uninitialized `out` array is created via the default\n",
      "        ``out=None``, locations within it where the condition is False will\n",
      "        remain uninitialized.\n",
      "    **kwargs\n",
      "        For other keyword-only arguments, see the\n",
      "        :ref:`ufunc docs <ufuncs.kwargs>`.\n",
      "\n",
      "    Returns\n",
      "    -------\n",
      "    add : ndarray or scalar\n",
      "        The sum of `x1` and `x2`, element-wise.\n",
      "        This is a scalar if both `x1` and `x2` are scalars.\n",
      "\n",
      "    Notes\n",
      "    -----\n",
      "    Equivalent to `x1` + `x2` in terms of array broadcasting.\n",
      "\n",
      "    Examples\n",
      "    --------\n",
      "    >>> import numpy as np\n",
      "    >>> np.add(1.0, 4.0)\n",
      "    5.0\n",
      "    >>> x1 = np.arange(9.0).reshape((3, 3))\n",
      "    >>> x2 = np.arange(3.0)\n",
      "    >>> np.add(x1, x2)\n",
      "    array([[  0.,   2.,   4.],\n",
      "           [  3.,   5.,   7.],\n",
      "           [  6.,   8.,  10.]])\n",
      "\n",
      "    The ``+`` operator can be used as a shorthand for ``np.add`` on ndarrays.\n",
      "\n",
      "    >>> x1 = np.arange(9.0).reshape((3, 3))\n",
      "    >>> x2 = np.arange(3.0)\n",
      "    >>> x1 + x2\n",
      "    array([[ 0.,  2.,  4.],\n",
      "           [ 3.,  5.,  7.],\n",
      "           [ 6.,  8., 10.]])\n",
      "\n",
      "None\n"
     ]
    }
   ],
   "source": [
    "print(\"\\nAide sur la fonction d'addition (add) :\")\n",
    "print(help(np.add))"
   ]
  },
  {
   "cell_type": "markdown",
   "id": "4d562ec1",
   "metadata": {},
   "source": [
    "3. Écrivez un programme NumPy pour tester si aucun des éléments d’un tableau donné n’est égal à zéro."
   ]
  },
  {
   "cell_type": "code",
   "execution_count": 3,
   "id": "6a897f21",
   "metadata": {},
   "outputs": [
    {
     "name": "stdout",
     "output_type": "stream",
     "text": [
      "Tableau 1 : [1 2 3 4 5]\n",
      "Aucun élément n'est nul : True\n"
     ]
    }
   ],
   "source": [
    "tableau_donne = np.array([1, 2, 3, 4, 5])\n",
    "print(f\"Tableau 1 : {tableau_donne}\")\n",
    "print(f\"Aucun élément n'est nul : {np.all(tableau_donne != 0)}\")"
   ]
  },
  {
   "cell_type": "markdown",
   "id": "54168698",
   "metadata": {},
   "source": [
    "4. Écrivez un programme NumPy pour tester si un des éléments d’un tableau donné est non nul."
   ]
  },
  {
   "cell_type": "code",
   "execution_count": 4,
   "id": "df2b358f",
   "metadata": {},
   "outputs": [
    {
     "name": "stdout",
     "output_type": "stream",
     "text": [
      "Tableau 1 : [0 0 3 0 0]\n",
      "Des éléments sont non nuls : True\n"
     ]
    }
   ],
   "source": [
    "tableau_donne = np.array([0, 0, 3, 0, 0])\n",
    "print(f\"Tableau 1 : {tableau_donne}\")\n",
    "print(f\"Des éléments sont non nuls : {np.any(tableau_donne != 0)}\")"
   ]
  },
  {
   "cell_type": "markdown",
   "id": "beccc0c7",
   "metadata": {},
   "source": [
    "5. Écrivez un programme NumPy pour tester, élément par élément, si les valeurs d’un tableau sont finies (ni infinies, ni NaN)."
   ]
  },
  {
   "cell_type": "code",
   "execution_count": 5,
   "id": "4ad65e2d",
   "metadata": {},
   "outputs": [
    {
     "name": "stdout",
     "output_type": "stream",
     "text": [
      "Tableau : [  1.   0.  nan  inf -inf   5.]\n",
      "Test de finitude (isinf ou isnan sont Faux) : [ True  True False False False  True]\n"
     ]
    }
   ],
   "source": [
    "tableau_donne = np.array([1, 0, np.nan, np.inf, -np.inf, 5])\n",
    "print(f\"Tableau : {tableau_donne}\")\n",
    "print(f\"Test de finitude (isinf ou isnan sont Faux) : {np.isfinite(tableau_donne)}\")"
   ]
  },
  {
   "cell_type": "markdown",
   "id": "5f22ea9e",
   "metadata": {},
   "source": [
    "6. Écrivez un programme NumPy pour tester, élément par élément, si les valeurs sont infinies (positives ou négatives)."
   ]
  },
  {
   "cell_type": "code",
   "execution_count": 6,
   "id": "208e27b2",
   "metadata": {},
   "outputs": [
    {
     "name": "stdout",
     "output_type": "stream",
     "text": [
      "Tableau : [  1.   0.  nan  inf -inf   5.]\n",
      "Test d'infini (isinf) : [False False False  True  True False]\n"
     ]
    }
   ],
   "source": [
    "tableau_donne = np.array([1, 0, np.nan, np.inf, -np.inf, 5])\n",
    "print(f\"Tableau : {tableau_donne}\")\n",
    "print(f\"Test d'infini (isinf) : {np.isinf(tableau_donne)}\")"
   ]
  },
  {
   "cell_type": "markdown",
   "id": "dc74edea",
   "metadata": {},
   "source": [
    "7. Écrivez un programme NumPy pour tester, élément par élément, si les valeurs d’un tableau sont des NaN (Not a Number)."
   ]
  },
  {
   "cell_type": "code",
   "execution_count": 7,
   "id": "dc043f08",
   "metadata": {},
   "outputs": [
    {
     "name": "stdout",
     "output_type": "stream",
     "text": [
      "Tableau : [  1.   0.  nan  inf -inf   5.]\n",
      "Test de NaN (isnan) : [False False  True False False False]\n"
     ]
    }
   ],
   "source": [
    "tableau_donne = np.array([1, 0, np.nan, np.inf, -np.inf, 5])\n",
    "print(f\"Tableau : {tableau_donne}\")\n",
    "print(f\"Test de NaN (isnan) : {np.isnan(tableau_donne)}\")"
   ]
  },
  {
   "cell_type": "markdown",
   "id": "68892160",
   "metadata": {},
   "source": [
    "8. Écrivez un programme NumPy pour tester, élément par élément, si les valeurs d’un tableau sont complexes ou réelles. Testez aussi si une valeur donnée est un scalaire."
   ]
  },
  {
   "cell_type": "code",
   "execution_count": 8,
   "id": "439a6c16",
   "metadata": {},
   "outputs": [
    {
     "name": "stdout",
     "output_type": "stream",
     "text": [
      "Tableau : [1. +1.j 1. +0.j 4.5+0.j 3. +0.j 2. +0.j 0. +2.j]\n",
      "Test de complexité (iscomplex) : [ True False False False False  True]\n",
      "Test de réels (isreal) : [False  True  True  True  True False]\n",
      "Test de scalaires (isscalar) : [True, True, True, True, True, True]\n"
     ]
    }
   ],
   "source": [
    "tableau_donne = np.array([1+1j, 1+0j, 4.5, 3, 2, 2j])\n",
    "print(f\"Tableau : {tableau_donne}\")\n",
    "print(f\"Test de complexité (iscomplex) : {np.iscomplex(tableau_donne)}\")\n",
    "print(f\"Test de réels (isreal) : {np.isreal(tableau_donne)}\")\n",
    "# Test de scalaires pour chaque élément\n",
    "print(f\"Test de scalaires (isscalar) : {[np.isscalar(x) for x in tableau_donne]}\")"
   ]
  },
  {
   "cell_type": "markdown",
   "id": "d174eabd",
   "metadata": {},
   "source": [
    "9. Écrivez un programme NumPy pour tester si deux tableaux sont égaux, élément par élément, dans une certaine tolérance."
   ]
  },
  {
   "cell_type": "code",
   "execution_count": 9,
   "id": "dccadf6a",
   "metadata": {},
   "outputs": [
    {
     "name": "stdout",
     "output_type": "stream",
     "text": [
      "Tester si deux tableaux sont égaux élément par élément avec une tolérance :\n",
      "Tableau 1 : [1. 2. 3.]\n",
      "Tableau 2 : [1.     2.     3.0001]\n",
      "Égalité avec tolérance 0.001 : True\n"
     ]
    }
   ],
   "source": [
    "print(\"Tester si deux tableaux sont égaux élément par élément avec une tolérance :\")\n",
    "tableau1 = np.array([1.0, 2.0, 3.0])\n",
    "tableau2 = np.array([1.0, 2.0, 3.0001])\n",
    "tolerance = 0.001\n",
    "print(f\"Tableau 1 : {tableau1}\")\n",
    "print(f\"Tableau 2 : {tableau2}\")\n",
    "print(f\"Égalité avec tolérance {tolerance} : {np.allclose(tableau1, tableau2, atol=tolerance)}\")"
   ]
  },
  {
   "cell_type": "markdown",
   "id": "e9e5f714",
   "metadata": {},
   "source": [
    "10. Écrivez un programme NumPy pour effectuer une comparaison élémentaire (supérieur, supérieur_ou_égal, inférieur, inférieur_ou_égal) entre deux tableaux."
   ]
  },
  {
   "cell_type": "code",
   "execution_count": 10,
   "id": "5e38446f",
   "metadata": {},
   "outputs": [
    {
     "name": "stdout",
     "output_type": "stream",
     "text": [
      "Tableau 1 : [1 2 3]\n",
      "Tableau 2 : [4 5 6]\n",
      "Supérieur : [False False False]\n",
      "Supérieur ou égal : [False False False]\n",
      "Inferieur : [ True  True  True]\n",
      "Inferieur ou égal : [ True  True  True]\n"
     ]
    }
   ],
   "source": [
    "tableau1 = np.array([1, 2, 3])\n",
    "tableau2 = np.array([4, 5, 6])\n",
    "print(f\"Tableau 1 : {tableau1}\")\n",
    "print(f\"Tableau 2 : {tableau2}\")\n",
    "print(f\"Supérieur : {np.greater(tableau1, tableau2)}\")\n",
    "print(f\"Supérieur ou égal : {np.greater_equal(tableau1, tableau2)}\")\n",
    "print(f\"Inferieur : {np.less(tableau1, tableau2)}\")\n",
    "print(f\"Inferieur ou égal : {np.less_equal(tableau1, tableau2)}\")"
   ]
  },
  {
   "cell_type": "markdown",
   "id": "33d3ee68",
   "metadata": {},
   "source": [
    "11. Écrivez un programme NumPy pour effectuer une comparaison élémentaire (égalité stricte ou dans une tolérance) entre deux tableaux."
   ]
  },
  {
   "cell_type": "code",
   "execution_count": 11,
   "id": "87c112f3",
   "metadata": {},
   "outputs": [
    {
     "name": "stdout",
     "output_type": "stream",
     "text": [
      "Tableau 1 : [  72   79   85   90  150 -135  120  -10   60  100]\n",
      "Tableau 2 : [  72.         79.         85.         90.        150.       -135.\n",
      "  120.        -10.         60.        100.000001]\n",
      "Égalité stricte : False\n",
      "Égalité avec tolérance 1e-05 : True\n"
     ]
    }
   ],
   "source": [
    "tableau1 = np.array([72, 79, 85, 90, 150, -135, 120, -10, 60, 100])\n",
    "tableau2 = np.array([72, 79, 85, 90, 150, -135, 120, -10, 60, 100.000001])\n",
    "\n",
    "print(f\"Tableau 1 : {tableau1}\")\n",
    "print(f\"Tableau 2 : {tableau2}\")\n",
    "\n",
    "print(f\"Égalité stricte : {np.array_equal(tableau1, tableau2)}\")\n",
    "\n",
    "tolerance = 0.00001\n",
    "print(f\"Égalité avec tolérance {tolerance} : {np.allclose(tableau1, tableau2, atol=tolerance)}\")"
   ]
  },
  {
   "cell_type": "markdown",
   "id": "c0a7d28a",
   "metadata": {},
   "source": [
    "12. Écrivez un programme NumPy pour créer un tableau avec les valeurs 1, 7, 13, 105 et déterminer la taille mémoire qu’il occupe."
   ]
  },
  {
   "cell_type": "code",
   "execution_count": 12,
   "id": "82dc84d0",
   "metadata": {},
   "outputs": [
    {
     "name": "stdout",
     "output_type": "stream",
     "text": [
      "Tableau : [  1   7  13 105]\n",
      "Taille mémoire occupée : 32 octets\n"
     ]
    }
   ],
   "source": [
    "tableau = np.array([1, 7, 13, 105])\n",
    "print(f\"Tableau : {tableau}\")\n",
    "print(f\"Taille mémoire occupée : {tableau.nbytes} octets\")"
   ]
  },
  {
   "cell_type": "markdown",
   "id": "e88d0d6d",
   "metadata": {},
   "source": [
    "13. Écrivez un programme NumPy pour créer un tableau de 10 zéros, un autre de 10 uns, et un autre de 10 cinq."
   ]
  },
  {
   "cell_type": "code",
   "execution_count": 13,
   "id": "16fd6ebd",
   "metadata": {},
   "outputs": [
    {
     "name": "stdout",
     "output_type": "stream",
     "text": [
      "Tableau de 10 zéros : [0. 0. 0. 0. 0. 0. 0. 0. 0. 0.]\n",
      "Tableau de 10 uns : [1. 1. 1. 1. 1. 1. 1. 1. 1. 1.]\n",
      "Tableau de 10 cinq : [5. 5. 5. 5. 5. 5. 5. 5. 5. 5.]\n"
     ]
    }
   ],
   "source": [
    "tableau_zeros = np.zeros(10)\n",
    "tableau_uns = np.ones(10)\n",
    "tableau_cinq = np.full(10, 5.) # Ou bien np.ones(10) * 5\n",
    "print(f\"Tableau de 10 zéros : {tableau_zeros}\")\n",
    "print(f\"Tableau de 10 uns : {tableau_uns}\")\n",
    "print(f\"Tableau de 10 cinq : {tableau_cinq}\")"
   ]
  },
  {
   "cell_type": "markdown",
   "id": "bf85b73a",
   "metadata": {},
   "source": [
    "14. Écrivez un programme NumPy pour créer un tableau contenant les entiers de 30 à 70."
   ]
  },
  {
   "cell_type": "code",
   "execution_count": 14,
   "id": "a3d9412b",
   "metadata": {},
   "outputs": [
    {
     "name": "stdout",
     "output_type": "stream",
     "text": [
      "Tableau contenant les entiers de 30 à 70 : [30 31 32 33 34 35 36 37 38 39 40 41 42 43 44 45 46 47 48 49 50 51 52 53\n",
      " 54 55 56 57 58 59 60 61 62 63 64 65 66 67 68 69 70]\n"
     ]
    }
   ],
   "source": [
    "tableau = np.arange(30, 71)\n",
    "print(f\"Tableau contenant les entiers de 30 à 70 : {tableau}\")"
   ]
  },
  {
   "cell_type": "markdown",
   "id": "c0370b87",
   "metadata": {},
   "source": [
    "15. Écrivez un programme NumPy pour créer un tableau contenant uniquement les entiers pairs de 30 à 70."
   ]
  },
  {
   "cell_type": "code",
   "execution_count": 15,
   "id": "c1609e44",
   "metadata": {},
   "outputs": [
    {
     "name": "stdout",
     "output_type": "stream",
     "text": [
      "Tableau contenant les entiers pairs de 30 à 70 : [30 32 34 36 38 40 42 44 46 48 50 52 54 56 58 60 62 64 66 68 70]\n"
     ]
    }
   ],
   "source": [
    "tableau = np.arange(30, 71, 2)\n",
    "print(f\"Tableau contenant les entiers pairs de 30 à 70 : {tableau}\")"
   ]
  },
  {
   "cell_type": "markdown",
   "id": "2a72fb65",
   "metadata": {},
   "source": [
    "16. Écrivez un programme NumPy pour créer une matrice identité 3x3."
   ]
  },
  {
   "cell_type": "code",
   "execution_count": 16,
   "id": "ece8764e",
   "metadata": {},
   "outputs": [
    {
     "name": "stdout",
     "output_type": "stream",
     "text": [
      "Matrice identité 3x3 :\n",
      "[[1. 0. 0.]\n",
      " [0. 1. 0.]\n",
      " [0. 0. 1.]]\n"
     ]
    }
   ],
   "source": [
    "matrice_identite = np.identity(3)\n",
    "print(f\"Matrice identité 3x3 :\\n{matrice_identite}\")"
   ]
  },
  {
   "cell_type": "markdown",
   "id": "468ce43d",
   "metadata": {},
   "source": [
    "17. Écrivez un programme NumPy pour générer un nombre aléatoire entre 0 et 1."
   ]
  },
  {
   "cell_type": "code",
   "execution_count": 17,
   "id": "c0e2ecf4",
   "metadata": {},
   "outputs": [
    {
     "name": "stdout",
     "output_type": "stream",
     "text": [
      "Nombre aléatoire entre 0 et 1 : [0.14360854]\n"
     ]
    }
   ],
   "source": [
    "nombre_aleatoire = np.random.normal(0,1, 1)\n",
    "print(f\"Nombre aléatoire entre 0 et 1 : {nombre_aleatoire}\")"
   ]
  },
  {
   "cell_type": "markdown",
   "id": "7facc9dd",
   "metadata": {},
   "source": [
    "18. Écrivez un programme NumPy pour générer un tableau de 15 nombres aléatoires selon une distribution normale standard."
   ]
  },
  {
   "cell_type": "code",
   "execution_count": 18,
   "id": "fea0d7e1",
   "metadata": {},
   "outputs": [
    {
     "name": "stdout",
     "output_type": "stream",
     "text": [
      "Tableau de 15 nombres aléatoires selon une distribution normale standard : [ 1.26575987 -0.6458258  -0.46229754 -0.84657785  1.79109479 -0.27052407\n",
      "  1.08195813 -1.1235229  -1.73879563 -0.6302348  -2.03148741  0.06376206\n",
      "  2.40199658  0.27502929  0.38907747]\n"
     ]
    }
   ],
   "source": [
    "nombre_aleatoire = np.random.normal(0,1, 15)\n",
    "print(f\"Tableau de 15 nombres aléatoires selon une distribution normale standard : {nombre_aleatoire}\")"
   ]
  },
  {
   "cell_type": "markdown",
   "id": "4cfa6f47",
   "metadata": {},
   "source": [
    "19. Écrivez un programme NumPy pour créer un vecteur de valeurs de 15 à 55, en affichant toutes sauf la première et la dernière."
   ]
  },
  {
   "cell_type": "code",
   "execution_count": 19,
   "id": "43561eae",
   "metadata": {},
   "outputs": [
    {
     "name": "stdout",
     "output_type": "stream",
     "text": [
      "Vecteur de valeurs de 15 à 55 : [15 16 17 18 19 20 21 22 23 24 25 26 27 28 29 30 31 32 33 34 35 36 37 38\n",
      " 39 40 41 42 43 44 45 46 47 48 49 50 51 52 53 54 55]\n",
      "Vecteur sans le premier et le dernier élément : [16 17 18 19 20 21 22 23 24 25 26 27 28 29 30 31 32 33 34 35 36 37 38 39\n",
      " 40 41 42 43 44 45 46 47 48 49 50 51 52 53 54]\n"
     ]
    }
   ],
   "source": [
    "vecteur = np.arange(15, 56)\n",
    "print(f\"Vecteur de valeurs de 15 à 55 : {vecteur}\")\n",
    "\n",
    "vecteur_sans_premier_dernier = vecteur[1:-1]\n",
    "print(f\"Vecteur sans le premier et le dernier élément : {vecteur_sans_premier_dernier}\")"
   ]
  },
  {
   "cell_type": "markdown",
   "id": "9cf17012",
   "metadata": {},
   "source": [
    "20. Écrivez un programme NumPy pour créer un tableau 3x4 et itérer sur ses éléments."
   ]
  },
  {
   "cell_type": "code",
   "execution_count": 20,
   "id": "b007e91a",
   "metadata": {},
   "outputs": [
    {
     "name": "stdout",
     "output_type": "stream",
     "text": [
      "Tableau 3x4 :\n",
      "[[10 11 12 13]\n",
      " [14 15 16 17]\n",
      " [18 19 20 21]]\n",
      "Itération sur les éléments du tableau 3x4 :\n",
      "10 11 12 13 14 15 16 17 18 19 20 21 "
     ]
    }
   ],
   "source": [
    "tableau = np.arange(10,22).reshape((3, 4))\n",
    "print(f\"Tableau 3x4 :\\n{tableau}\")\n",
    "\n",
    "print(\"Itération sur les éléments du tableau 3x4 :\")\n",
    "for i in np.nditer(tableau):\n",
    "    print(i, end=' ')"
   ]
  },
  {
   "cell_type": "markdown",
   "id": "d7123331",
   "metadata": {},
   "source": [
    "21. Écrivez un programme NumPy pour créer un vecteur de longueur 10, contenant des valeurs réparties uniformément entre 5 et 50."
   ]
  },
  {
   "cell_type": "code",
   "execution_count": 21,
   "id": "18cd747d",
   "metadata": {},
   "outputs": [
    {
     "name": "stdout",
     "output_type": "stream",
     "text": [
      "Vecteur de 5 à 50 avec 10 points : [ 5. 10. 15. 20. 25. 30. 35. 40. 45. 50.]\n"
     ]
    }
   ],
   "source": [
    "vecteur = np.linspace(5,50,10)\n",
    "print(f\"Vecteur de 5 à 50 avec 10 points : {vecteur}\")"
   ]
  },
  {
   "cell_type": "markdown",
   "id": "2b8a5754",
   "metadata": {},
   "source": [
    "22. Écrivez un programme NumPy pour créer un vecteur allant de 0 à 20, et inverser le signe des nombres entre 9 et 15."
   ]
  },
  {
   "cell_type": "code",
   "execution_count": 22,
   "id": "ef8a9c2f",
   "metadata": {},
   "outputs": [
    {
     "name": "stdout",
     "output_type": "stream",
     "text": [
      "Vecteur de 0 à 20 : [ 0  1  2  3  4  5  6  7  8  9 10 11 12 13 14 15 16 17 18 19 20]\n",
      "Vecteur apres inversion des signes entre 9 et 15 : [  0   1   2   3   4   5   6   7   8  -9 -10 -11 -12 -13 -14 -15  16  17\n",
      "  18  19  20]\n"
     ]
    }
   ],
   "source": [
    "vecteur = np.arange(21)\n",
    "print(f\"Vecteur de 0 à 20 : {vecteur}\")\n",
    "vecteur[9:16] = -vecteur[9:16]\n",
    "print(f\"Vecteur apres inversion des signes entre 9 et 15 : {vecteur}\")"
   ]
  },
  {
   "cell_type": "markdown",
   "id": "681f32c2",
   "metadata": {},
   "source": [
    "23. Écrivez un programme NumPy pour créer un vecteur de longueur 5 rempli d’entiers aléatoires entre 0 et 10."
   ]
  },
  {
   "cell_type": "code",
   "execution_count": 23,
   "id": "0800bc24",
   "metadata": {},
   "outputs": [
    {
     "name": "stdout",
     "output_type": "stream",
     "text": [
      "Vecteur de longueur 5 rempli d’entiers aléatoires entre 0 et 10 : [ 5  5 10  0  5]\n"
     ]
    }
   ],
   "source": [
    "vecteur = np.random.randint(0, 11, 5)\n",
    "print(f\"Vecteur de longueur 5 rempli d’entiers aléatoires entre 0 et 10 : {vecteur}\")"
   ]
  },
  {
   "cell_type": "markdown",
   "id": "00354012",
   "metadata": {},
   "source": [
    "24. Écrivez un programme NumPy pour multiplier les valeurs de deux vecteurs donnés."
   ]
  },
  {
   "cell_type": "code",
   "execution_count": 24,
   "id": "91ea620d",
   "metadata": {},
   "outputs": [
    {
     "name": "stdout",
     "output_type": "stream",
     "text": [
      "Vecteur x : [1 2 3]\n",
      "Vecteur y : [4 5 6]\n",
      "Produit élément par élément de x et y : [ 4 10 18]\n"
     ]
    }
   ],
   "source": [
    "x = np.array([1, 2, 3])\n",
    "y = np.array([4, 5, 6])\n",
    "\n",
    "print(f\"Vecteur x : {x}\")\n",
    "print(f\"Vecteur y : {y}\")\n",
    "\n",
    "resultat = x*y\n",
    "print(f\"Produit élément par élément de x et y : {resultat}\")"
   ]
  },
  {
   "cell_type": "markdown",
   "id": "587dd461",
   "metadata": {},
   "source": [
    "25. Écrivez un programme NumPy pour créer une matrice 3x4 remplie avec les valeurs de 10 à 21."
   ]
  },
  {
   "cell_type": "code",
   "execution_count": 25,
   "id": "3b8a0246",
   "metadata": {},
   "outputs": [
    {
     "name": "stdout",
     "output_type": "stream",
     "text": [
      "Matrice 3x4 :\n",
      "[[10 11 12 13]\n",
      " [14 15 16 17]\n",
      " [18 19 20 21]]\n"
     ]
    }
   ],
   "source": [
    "matrice = np.arange(10, 22).reshape((3, 4))\n",
    "print(f\"Matrice 3x4 :\\n{matrice}\")"
   ]
  },
  {
   "cell_type": "markdown",
   "id": "1e0ef429",
   "metadata": {},
   "source": [
    "26. Écrivez un programme NumPy pour trouver le nombre de lignes et de colonnes dans une matrice donnée."
   ]
  },
  {
   "cell_type": "code",
   "execution_count": 26,
   "id": "8f13bb33",
   "metadata": {},
   "outputs": [
    {
     "name": "stdout",
     "output_type": "stream",
     "text": [
      "Matrice :\n",
      "[[ 1  2  3]\n",
      " [ 4  5  6]\n",
      " [ 7  8  9]\n",
      " [10 11 12]]\n",
      "\n",
      "Nombre de lignes : 4, Nombre de colonnes : 3\n"
     ]
    }
   ],
   "source": [
    "matrice = np.array([[1, 2, 3],\n",
    "                    [4, 5, 6],\n",
    "                    [7, 8, 9],\n",
    "                    [10, 11, 12]])\n",
    "\n",
    "print(f\"Matrice :\\n{matrice}\")\n",
    "lignes, colonnes = matrice.shape\n",
    "print(f\"\\nNombre de lignes : {lignes}, Nombre de colonnes : {colonnes}\")"
   ]
  },
  {
   "cell_type": "markdown",
   "id": "cd526977",
   "metadata": {},
   "source": [
    "27. Écrivez un programme NumPy pour créer une matrice 3x3 identité (diagonale à 1, reste à 0)."
   ]
  },
  {
   "cell_type": "code",
   "execution_count": 27,
   "id": "c4813068",
   "metadata": {},
   "outputs": [
    {
     "name": "stdout",
     "output_type": "stream",
     "text": [
      "Matrice identité 3x3 :\n",
      "[[1. 0. 0.]\n",
      " [0. 1. 0.]\n",
      " [0. 0. 1.]]\n"
     ]
    }
   ],
   "source": [
    "matrice_identite = np.identity(3)\n",
    "print(f\"Matrice identité 3x3 :\\n{matrice_identite}\")"
   ]
  },
  {
   "cell_type": "markdown",
   "id": "54bb5ba8",
   "metadata": {},
   "source": [
    "28. Écrivez un programme NumPy pour créer une matrice 10x10 dont la bordure contient des 1 et l’intérieur des 0."
   ]
  },
  {
   "cell_type": "code",
   "execution_count": 28,
   "id": "8e7aa279",
   "metadata": {},
   "outputs": [
    {
     "name": "stdout",
     "output_type": "stream",
     "text": [
      "Matrice 10x10 avec bordure de 1 et intérieur de 0 :\n",
      "[[1. 1. 1. 1. 1. 1. 1. 1. 1. 1.]\n",
      " [1. 0. 0. 0. 0. 0. 0. 0. 0. 1.]\n",
      " [1. 0. 0. 0. 0. 0. 0. 0. 0. 1.]\n",
      " [1. 0. 0. 0. 0. 0. 0. 0. 0. 1.]\n",
      " [1. 0. 0. 0. 0. 0. 0. 0. 0. 1.]\n",
      " [1. 0. 0. 0. 0. 0. 0. 0. 0. 1.]\n",
      " [1. 0. 0. 0. 0. 0. 0. 0. 0. 1.]\n",
      " [1. 0. 0. 0. 0. 0. 0. 0. 0. 1.]\n",
      " [1. 0. 0. 0. 0. 0. 0. 0. 0. 1.]\n",
      " [1. 1. 1. 1. 1. 1. 1. 1. 1. 1.]]\n"
     ]
    }
   ],
   "source": [
    "matrice = np.ones((10, 10))\n",
    "matrice[1:-1, 1:-1] = 0\n",
    "print(f\"Matrice 10x10 avec bordure de 1 et intérieur de 0 :\\n{matrice}\")"
   ]
  },
  {
   "cell_type": "markdown",
   "id": "244cc6df",
   "metadata": {},
   "source": [
    "29. Écrivez un programme NumPy pour créer une matrice 5x5 remplie de zéros avec une diagonale principale contenant les valeurs 1 à 5."
   ]
  },
  {
   "cell_type": "code",
   "execution_count": 29,
   "id": "9b0dcda8",
   "metadata": {},
   "outputs": [
    {
     "name": "stdout",
     "output_type": "stream",
     "text": [
      "Matrice diagonale 5x5 :\n",
      "[[1 0 0 0 0]\n",
      " [0 2 0 0 0]\n",
      " [0 0 3 0 0]\n",
      " [0 0 0 4 0]\n",
      " [0 0 0 0 5]]\n"
     ]
    }
   ],
   "source": [
    "matrice = np.diag(np.arange(1, 6))\n",
    "print(f\"Matrice diagonale 5x5 :\\n{matrice}\")"
   ]
  },
  {
   "cell_type": "markdown",
   "id": "1fea9805",
   "metadata": {},
   "source": [
    "30. Écrivez un programme NumPy pour créer une matrice 4x4 avec alternance de 0 et 1, les diagonales principales étant à 0."
   ]
  },
  {
   "cell_type": "code",
   "execution_count": 30,
   "id": "fc48aa34",
   "metadata": {},
   "outputs": [
    {
     "name": "stdout",
     "output_type": "stream",
     "text": [
      "Matrice 4x4 avec alternance de 0 et 1, diagonales principales à 0 :\n",
      "[[0 0 0 0]\n",
      " [1 0 1 0]\n",
      " [0 0 0 0]\n",
      " [1 0 1 0]]\n"
     ]
    }
   ],
   "source": [
    "matrice = np.zeros((4, 4), dtype=int)\n",
    "matrice[1::2, ::2] = 1\n",
    "print(f\"Matrice 4x4 avec alternance de 0 et 1, diagonales principales à 0 :\\n{matrice}\")"
   ]
  },
  {
   "cell_type": "markdown",
   "id": "66008880",
   "metadata": {},
   "source": [
    "31. Écrivez un programme NumPy pour créer un tableau tridimensionnel 3x3x3 rempli de valeurs arbitraires."
   ]
  },
  {
   "cell_type": "code",
   "execution_count": 31,
   "id": "a6ee6cae",
   "metadata": {},
   "outputs": [
    {
     "name": "stdout",
     "output_type": "stream",
     "text": [
      "Tableau tridimensionnel 3x3x3 rempli de valeurs arbitraires :\n",
      "[[[0.29009937 0.32554994 0.66004511]\n",
      "  [0.04157973 0.23759925 0.4484368 ]\n",
      "  [0.849225   0.05882643 0.24965931]]\n",
      "\n",
      " [[0.79190635 0.03860721 0.53268053]\n",
      "  [0.33609024 0.99788545 0.1904074 ]\n",
      "  [0.70696866 0.95819829 0.99237642]]\n",
      "\n",
      " [[0.76373695 0.65653292 0.44401769]\n",
      "  [0.65372052 0.76031992 0.39041366]\n",
      "  [0.41743232 0.48497626 0.60483806]]]\n"
     ]
    }
   ],
   "source": [
    "matrice = np.random.random((3, 3, 3))\n",
    "print(f\"Tableau tridimensionnel 3x3x3 rempli de valeurs arbitraires :\\n{matrice}\")"
   ]
  },
  {
   "cell_type": "markdown",
   "id": "c11a1e43",
   "metadata": {},
   "source": [
    "32. Écrivez un programme NumPy pour calculer la somme de tous les éléments, la somme par colonne et la somme par ligne dans un tableau donné."
   ]
  },
  {
   "cell_type": "code",
   "execution_count": 32,
   "id": "8dc7e7a8",
   "metadata": {},
   "outputs": [
    {
     "name": "stdout",
     "output_type": "stream",
     "text": [
      "Tableau 4x3 :\n",
      "[[ 1  2  3]\n",
      " [ 4  5  6]\n",
      " [ 7  8  9]\n",
      " [10 11 12]]\n",
      "La somme de tous les éléments : 78\n",
      "La somme de chaque colonne : [22 26 30]\n",
      "La somme de chaque ligne : [ 6 15 24 33]\n"
     ]
    }
   ],
   "source": [
    "tableau = np.array([[1, 2, 3],\n",
    "                    [4, 5, 6],\n",
    "                    [7, 8, 9],\n",
    "                    [10, 11, 12]])\n",
    "\n",
    "print(f\"Tableau 4x3 :\\n{tableau}\")\n",
    "print(f\"La somme de tous les éléments : {np.sum(tableau)}\")\n",
    "print(f\"La somme de chaque colonne : {np.sum(tableau, axis=0)}\")\n",
    "print(f\"La somme de chaque ligne : {np.sum(tableau, axis=1)}\")"
   ]
  },
  {
   "cell_type": "markdown",
   "id": "88d13b9f",
   "metadata": {},
   "source": [
    "33. Écrivez un programme NumPy pour calculer le produit scalaire de deux vecteurs donnés."
   ]
  },
  {
   "cell_type": "code",
   "execution_count": 33,
   "id": "9a084577",
   "metadata": {},
   "outputs": [
    {
     "name": "stdout",
     "output_type": "stream",
     "text": [
      "Produit scalaire de [1 2 3] et [4 5 6] : 32\n"
     ]
    }
   ],
   "source": [
    "vecteur1 = np.array([1, 2, 3])\n",
    "vecteur2 = np.array([4, 5, 6])\n",
    "produit_scalaire = np.dot(vecteur1, vecteur2)\n",
    "print(f\"Produit scalaire de {vecteur1} et {vecteur2} : {produit_scalaire}\")"
   ]
  },
  {
   "cell_type": "markdown",
   "id": "3f157497",
   "metadata": {},
   "source": [
    "34. Écrivez un programme NumPy pour ajouter un vecteur à chaque ligne d'une matrice donnée."
   ]
  },
  {
   "cell_type": "code",
   "execution_count": 34,
   "id": "d5e4f439",
   "metadata": {},
   "outputs": [
    {
     "name": "stdout",
     "output_type": "stream",
     "text": [
      "Matrice 4x3 après ajout du vecteur [1 2 3] :\n",
      "[[ 2  4  6]\n",
      " [ 5  7  9]\n",
      " [ 8 10 12]\n",
      " [11 13 15]]\n"
     ]
    }
   ],
   "source": [
    "matrice = np.array([[1, 2, 3],\n",
    "                    [4, 5, 6],\n",
    "                    [7, 8, 9],\n",
    "                    [10, 11, 12]])\n",
    "vecteur_ajout = np.array([1, 2, 3])\n",
    "matrice_ajoutee = matrice + vecteur_ajout\n",
    "print(f\"Matrice 4x3 après ajout du vecteur {vecteur_ajout} :\\n{matrice_ajoutee}\")"
   ]
  },
  {
   "cell_type": "markdown",
   "id": "c0cfa81d",
   "metadata": {},
   "source": [
    "35. Écrivez un programme NumPy pour détecter les valeurs manquantes (NaN) dans un tableau donné."
   ]
  },
  {
   "cell_type": "code",
   "execution_count": 35,
   "id": "2a27d5c5",
   "metadata": {},
   "outputs": [
    {
     "name": "stdout",
     "output_type": "stream",
     "text": [
      "Matrice : \n",
      "[[ 1.  2.  3.]\n",
      " [ 4. nan  6.]\n",
      " [ 7.  8.  9.]\n",
      " [10. 11. 12.]]\n",
      "Les vaaleurs manquantes (NaN) dans le tableau sont : [[False False False]\n",
      " [False  True False]\n",
      " [False False False]\n",
      " [False False False]]\n"
     ]
    }
   ],
   "source": [
    "matrice = np.array([[1, 2, 3],\n",
    "                                [4, np.nan, 6],\n",
    "                                [7, 8, 9],\n",
    "                                [10, 11, 12]])\n",
    "\n",
    "print(f\"Matrice : \\n{matrice}\")\n",
    "print(f\"Les vaaleurs manquantes (NaN) dans le tableau sont : {np.isnan(matrice)}\")\n"
   ]
  },
  {
   "cell_type": "markdown",
   "id": "c33cc32f",
   "metadata": {},
   "source": [
    "36. Écrivez un programme NumPy pour vérifier si deux tableaux sont identiques, élément par élément."
   ]
  },
  {
   "cell_type": "code",
   "execution_count": 36,
   "id": "85cbc4e3",
   "metadata": {},
   "outputs": [
    {
     "name": "stdout",
     "output_type": "stream",
     "text": [
      "Tableau 1 : [1 2 3]\n",
      "Tableau 2 : [1 2 3]\n",
      "Les tableaux sont identiques : True\n"
     ]
    }
   ],
   "source": [
    "tableau1 = np.array([1, 2, 3])\n",
    "tableau2 = np.array([1, 2, 3])\n",
    "\n",
    "print(f\"Tableau 1 : {tableau1}\")\n",
    "print(f\"Tableau 2 : {tableau2}\")\n",
    "\n",
    "identique = np.array_equal(tableau1, tableau2)\n",
    "print(f\"Les tableaux sont identiques : {identique}\")"
   ]
  },
  {
   "cell_type": "markdown",
   "id": "9218bc06",
   "metadata": {},
   "source": [
    "37. Écrivez un programme NumPy pour créer un tableau unidimensionnel de quarante valeurs générées pseudo-aléatoirement entre 0 et 1 (distribution uniforme)."
   ]
  },
  {
   "cell_type": "code",
   "execution_count": 37,
   "id": "289e87ab",
   "metadata": {},
   "outputs": [
    {
     "name": "stdout",
     "output_type": "stream",
     "text": [
      "Tableau unidimensionnel de quarante valeurs générées pseudo-aléatoirement entre 0 et 1 :\n",
      "[0.83602853 0.68397166 0.34306688 0.80609166 0.68730368 0.08484984\n",
      " 0.88429192 0.22058959 0.96605714 0.91517782 0.07810312 0.22066199\n",
      " 0.19675265 0.87901767 0.13961739 0.96587836 0.90061243 0.53164425\n",
      " 0.05442016 0.53140233 0.15926373 0.32921307 0.72169841 0.97410697\n",
      " 0.65371206 0.49956732 0.09507578 0.25056679 0.06713045 0.58727628\n",
      " 0.30090125 0.69463875 0.26819787 0.39746531 0.03523205 0.69776357\n",
      " 0.88221426 0.40176629 0.84613389 0.31878862]\n"
     ]
    }
   ],
   "source": [
    "tableau = np.random.uniform(0, 1, 40)\n",
    "print(f\"Tableau unidimensionnel de quarante valeurs générées pseudo-aléatoirement entre 0 et 1 :\\n{tableau}\")"
   ]
  }
 ],
 "metadata": {
  "kernelspec": {
   "display_name": "Python 3",
   "language": "python",
   "name": "python3"
  },
  "language_info": {
   "codemirror_mode": {
    "name": "ipython",
    "version": 3
   },
   "file_extension": ".py",
   "mimetype": "text/x-python",
   "name": "python",
   "nbconvert_exporter": "python",
   "pygments_lexer": "ipython3",
   "version": "3.13.3"
  }
 },
 "nbformat": 4,
 "nbformat_minor": 5
}
