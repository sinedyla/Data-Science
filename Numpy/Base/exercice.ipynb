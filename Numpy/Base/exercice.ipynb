{
 "cells": [
  {
   "cell_type": "markdown",
   "id": "a5980736",
   "metadata": {},
   "source": [
    "# **Exercices Fondamentaux NumPy**"
   ]
  },
  {
   "cell_type": "markdown",
   "id": "a7e53d50",
   "metadata": {},
   "source": [
    "1. Écrivez un programme NumPy pour obtenir la version de NumPy et afficher la configuration de compilation de NumPy."
   ]
  },
  {
   "cell_type": "code",
   "execution_count": 1,
   "id": "6aa1c90e",
   "metadata": {},
   "outputs": [
    {
     "name": "stdout",
     "output_type": "stream",
     "text": [
      "Version de NumPy : 2.2.5\n",
      "\n",
      "Configuration de compilation de NumPy :\n",
      "{\n",
      "  \"Compilers\": {\n",
      "    \"c\": {\n",
      "      \"name\": \"msvc\",\n",
      "      \"linker\": \"link\",\n",
      "      \"version\": \"19.29.30159\",\n",
      "      \"commands\": \"cl\"\n",
      "    },\n",
      "    \"cython\": {\n",
      "      \"name\": \"cython\",\n",
      "      \"linker\": \"cython\",\n",
      "      \"version\": \"3.0.12\",\n",
      "      \"commands\": \"cython\"\n",
      "    },\n",
      "    \"c++\": {\n",
      "      \"name\": \"msvc\",\n",
      "      \"linker\": \"link\",\n",
      "      \"version\": \"19.29.30159\",\n",
      "      \"commands\": \"cl\"\n",
      "    }\n",
      "  },\n",
      "  \"Machine Information\": {\n",
      "    \"host\": {\n",
      "      \"cpu\": \"x86_64\",\n",
      "      \"family\": \"x86_64\",\n",
      "      \"endian\": \"little\",\n",
      "      \"system\": \"windows\"\n",
      "    },\n",
      "    \"build\": {\n",
      "      \"cpu\": \"x86_64\",\n",
      "      \"family\": \"x86_64\",\n",
      "      \"endian\": \"little\",\n",
      "      \"system\": \"windows\"\n",
      "    }\n",
      "  },\n",
      "  \"Build Dependencies\": {\n",
      "    \"blas\": {\n",
      "      \"name\": \"scipy-openblas\",\n",
      "      \"found\": true,\n",
      "      \"version\": \"0.3.28\",\n",
      "      \"detection method\": \"pkgconfig\",\n",
      "      \"include directory\": \"C:/Users/runneradmin/AppData/Local/Temp/cibw-run-065080rt/cp313-win_amd64/build/venv/Lib/site-packages/scipy_openblas64/include\",\n",
      "      \"lib directory\": \"C:/Users/runneradmin/AppData/Local/Temp/cibw-run-065080rt/cp313-win_amd64/build/venv/Lib/site-packages/scipy_openblas64/lib\",\n",
      "      \"openblas configuration\": \"OpenBLAS 0.3.28  USE64BITINT DYNAMIC_ARCH NO_AFFINITY Haswell MAX_THREADS=24\",\n",
      "      \"pc file directory\": \"D:/a/numpy/numpy/.openblas\"\n",
      "    },\n",
      "    \"lapack\": {\n",
      "      \"name\": \"scipy-openblas\",\n",
      "      \"found\": true,\n",
      "      \"version\": \"0.3.28\",\n",
      "      \"detection method\": \"pkgconfig\",\n",
      "      \"include directory\": \"C:/Users/runneradmin/AppData/Local/Temp/cibw-run-065080rt/cp313-win_amd64/build/venv/Lib/site-packages/scipy_openblas64/include\",\n",
      "      \"lib directory\": \"C:/Users/runneradmin/AppData/Local/Temp/cibw-run-065080rt/cp313-win_amd64/build/venv/Lib/site-packages/scipy_openblas64/lib\",\n",
      "      \"openblas configuration\": \"OpenBLAS 0.3.28  USE64BITINT DYNAMIC_ARCH NO_AFFINITY Haswell MAX_THREADS=24\",\n",
      "      \"pc file directory\": \"D:/a/numpy/numpy/.openblas\"\n",
      "    }\n",
      "  },\n",
      "  \"Python Information\": {\n",
      "    \"path\": \"C:\\\\Users\\\\runneradmin\\\\AppData\\\\Local\\\\Temp\\\\build-env-19lia66t\\\\Scripts\\\\python.exe\",\n",
      "    \"version\": \"3.13\"\n",
      "  },\n",
      "  \"SIMD Extensions\": {\n",
      "    \"baseline\": [\n",
      "      \"SSE\",\n",
      "      \"SSE2\",\n",
      "      \"SSE3\"\n",
      "    ],\n",
      "    \"found\": [\n",
      "      \"SSSE3\",\n",
      "      \"SSE41\",\n",
      "      \"POPCNT\",\n",
      "      \"SSE42\",\n",
      "      \"AVX\",\n",
      "      \"F16C\",\n",
      "      \"FMA3\",\n",
      "      \"AVX2\"\n",
      "    ],\n",
      "    \"not found\": [\n",
      "      \"AVX512F\",\n",
      "      \"AVX512CD\",\n",
      "      \"AVX512_SKX\",\n",
      "      \"AVX512_CLX\",\n",
      "      \"AVX512_CNL\",\n",
      "      \"AVX512_ICL\"\n",
      "    ]\n",
      "  }\n",
      "}\n",
      "None\n"
     ]
    },
    {
     "name": "stderr",
     "output_type": "stream",
     "text": [
      "c:\\Python313\\Lib\\site-packages\\numpy\\__config__.py:155: UserWarning: Install `pyyaml` for better output\n",
      "  warnings.warn(\"Install `pyyaml` for better output\", stacklevel=1)\n"
     ]
    }
   ],
   "source": [
    "import numpy as np\n",
    "print(f\"Version de NumPy : {np.__version__}\")\n",
    "print(\"\\nConfiguration de compilation de NumPy :\")\n",
    "print(np.show_config())"
   ]
  },
  {
   "cell_type": "markdown",
   "id": "ce9a365b",
   "metadata": {},
   "source": [
    "2. Écrivez un programme NumPy pour obtenir de l'aide sur la fonction d'addition (add)."
   ]
  },
  {
   "cell_type": "code",
   "execution_count": 2,
   "id": "21f67870",
   "metadata": {},
   "outputs": [
    {
     "name": "stdout",
     "output_type": "stream",
     "text": [
      "\n",
      "Aide sur la fonction d'addition (add) :\n",
      "Help on ufunc in module numpy:\n",
      "\n",
      "add = <ufunc 'add'>\n",
      "    add(x1, x2, /, out=None, *, where=True, casting='same_kind', order='K', dtype=None, subok=True[, signature])\n",
      "\n",
      "    Add arguments element-wise.\n",
      "\n",
      "    Parameters\n",
      "    ----------\n",
      "    x1, x2 : array_like\n",
      "        The arrays to be added.\n",
      "        If ``x1.shape != x2.shape``, they must be broadcastable to a common\n",
      "        shape (which becomes the shape of the output).\n",
      "    out : ndarray, None, or tuple of ndarray and None, optional\n",
      "        A location into which the result is stored. If provided, it must have\n",
      "        a shape that the inputs broadcast to. If not provided or None,\n",
      "        a freshly-allocated array is returned. A tuple (possible only as a\n",
      "        keyword argument) must have length equal to the number of outputs.\n",
      "    where : array_like, optional\n",
      "        This condition is broadcast over the input. At locations where the\n",
      "        condition is True, the `out` array will be set to the ufunc result.\n",
      "        Elsewhere, the `out` array will retain its original value.\n",
      "        Note that if an uninitialized `out` array is created via the default\n",
      "        ``out=None``, locations within it where the condition is False will\n",
      "        remain uninitialized.\n",
      "    **kwargs\n",
      "        For other keyword-only arguments, see the\n",
      "        :ref:`ufunc docs <ufuncs.kwargs>`.\n",
      "\n",
      "    Returns\n",
      "    -------\n",
      "    add : ndarray or scalar\n",
      "        The sum of `x1` and `x2`, element-wise.\n",
      "        This is a scalar if both `x1` and `x2` are scalars.\n",
      "\n",
      "    Notes\n",
      "    -----\n",
      "    Equivalent to `x1` + `x2` in terms of array broadcasting.\n",
      "\n",
      "    Examples\n",
      "    --------\n",
      "    >>> import numpy as np\n",
      "    >>> np.add(1.0, 4.0)\n",
      "    5.0\n",
      "    >>> x1 = np.arange(9.0).reshape((3, 3))\n",
      "    >>> x2 = np.arange(3.0)\n",
      "    >>> np.add(x1, x2)\n",
      "    array([[  0.,   2.,   4.],\n",
      "           [  3.,   5.,   7.],\n",
      "           [  6.,   8.,  10.]])\n",
      "\n",
      "    The ``+`` operator can be used as a shorthand for ``np.add`` on ndarrays.\n",
      "\n",
      "    >>> x1 = np.arange(9.0).reshape((3, 3))\n",
      "    >>> x2 = np.arange(3.0)\n",
      "    >>> x1 + x2\n",
      "    array([[ 0.,  2.,  4.],\n",
      "           [ 3.,  5.,  7.],\n",
      "           [ 6.,  8., 10.]])\n",
      "\n",
      "None\n"
     ]
    }
   ],
   "source": [
    "print(\"\\nAide sur la fonction d'addition (add) :\")\n",
    "print(help(np.add))"
   ]
  },
  {
   "cell_type": "markdown",
   "id": "4d562ec1",
   "metadata": {},
   "source": [
    "3. Écrivez un programme NumPy pour tester si aucun des éléments d’un tableau donné n’est égal à zéro."
   ]
  },
  {
   "cell_type": "code",
   "execution_count": 3,
   "id": "6a897f21",
   "metadata": {},
   "outputs": [
    {
     "name": "stdout",
     "output_type": "stream",
     "text": [
      "Tableau 1 : [1 2 3 4 5]\n",
      "Aucun élément n'est nul : True\n"
     ]
    }
   ],
   "source": [
    "tableau_donne = np.array([1, 2, 3, 4, 5])\n",
    "print(f\"Tableau 1 : {tableau_donne}\")\n",
    "print(f\"Aucun élément n'est nul : {np.all(tableau_donne != 0)}\")"
   ]
  },
  {
   "cell_type": "markdown",
   "id": "54168698",
   "metadata": {},
   "source": [
    "4. Écrivez un programme NumPy pour tester si un des éléments d’un tableau donné est non nul."
   ]
  },
  {
   "cell_type": "code",
   "execution_count": 4,
   "id": "df2b358f",
   "metadata": {},
   "outputs": [
    {
     "name": "stdout",
     "output_type": "stream",
     "text": [
      "Tableau 1 : [0 0 3 0 0]\n",
      "Des éléments sont non nuls : True\n"
     ]
    }
   ],
   "source": [
    "tableau_donne = np.array([0, 0, 3, 0, 0])\n",
    "print(f\"Tableau 1 : {tableau_donne}\")\n",
    "print(f\"Des éléments sont non nuls : {np.any(tableau_donne != 0)}\")"
   ]
  },
  {
   "cell_type": "markdown",
   "id": "beccc0c7",
   "metadata": {},
   "source": [
    "5. Écrivez un programme NumPy pour tester, élément par élément, si les valeurs d’un tableau sont finies (ni infinies, ni NaN)."
   ]
  },
  {
   "cell_type": "code",
   "execution_count": 5,
   "id": "4ad65e2d",
   "metadata": {},
   "outputs": [
    {
     "name": "stdout",
     "output_type": "stream",
     "text": [
      "Tableau : [  1.   0.  nan  inf -inf   5.]\n",
      "Test de finitude (isinf ou isnan sont Faux) : [ True  True False False False  True]\n"
     ]
    }
   ],
   "source": [
    "tableau_donne = np.array([1, 0, np.nan, np.inf, -np.inf, 5])\n",
    "print(f\"Tableau : {tableau_donne}\")\n",
    "print(f\"Test de finitude (isinf ou isnan sont Faux) : {np.isfinite(tableau_donne)}\")"
   ]
  },
  {
   "cell_type": "markdown",
   "id": "5f22ea9e",
   "metadata": {},
   "source": [
    "6. Écrivez un programme NumPy pour tester, élément par élément, si les valeurs sont infinies (positives ou négatives)."
   ]
  },
  {
   "cell_type": "code",
   "execution_count": 6,
   "id": "208e27b2",
   "metadata": {},
   "outputs": [
    {
     "name": "stdout",
     "output_type": "stream",
     "text": [
      "Tableau : [  1.   0.  nan  inf -inf   5.]\n",
      "Test d'infini (isinf) : [False False False  True  True False]\n"
     ]
    }
   ],
   "source": [
    "tableau_donne = np.array([1, 0, np.nan, np.inf, -np.inf, 5])\n",
    "print(f\"Tableau : {tableau_donne}\")\n",
    "print(f\"Test d'infini (isinf) : {np.isinf(tableau_donne)}\")"
   ]
  },
  {
   "cell_type": "markdown",
   "id": "dc74edea",
   "metadata": {},
   "source": [
    "7. Écrivez un programme NumPy pour tester, élément par élément, si les valeurs d’un tableau sont des NaN (Not a Number)."
   ]
  },
  {
   "cell_type": "code",
   "execution_count": 7,
   "id": "dc043f08",
   "metadata": {},
   "outputs": [
    {
     "name": "stdout",
     "output_type": "stream",
     "text": [
      "Tableau : [  1.   0.  nan  inf -inf   5.]\n",
      "Test de NaN (isnan) : [False False  True False False False]\n"
     ]
    }
   ],
   "source": [
    "tableau_donne = np.array([1, 0, np.nan, np.inf, -np.inf, 5])\n",
    "print(f\"Tableau : {tableau_donne}\")\n",
    "print(f\"Test de NaN (isnan) : {np.isnan(tableau_donne)}\")"
   ]
  },
  {
   "cell_type": "markdown",
   "id": "68892160",
   "metadata": {},
   "source": [
    "8. Écrivez un programme NumPy pour tester, élément par élément, si les valeurs d’un tableau sont complexes ou réelles. Testez aussi si une valeur donnée est un scalaire."
   ]
  },
  {
   "cell_type": "code",
   "execution_count": 8,
   "id": "439a6c16",
   "metadata": {},
   "outputs": [
    {
     "name": "stdout",
     "output_type": "stream",
     "text": [
      "Tableau : [1. +1.j 1. +0.j 4.5+0.j 3. +0.j 2. +0.j 0. +2.j]\n",
      "Test de complexité (iscomplex) : [ True False False False False  True]\n",
      "Test de réels (isreal) : [False  True  True  True  True False]\n",
      "Test de scalaires (isscalar) : [True, True, True, True, True, True]\n"
     ]
    }
   ],
   "source": [
    "tableau_donne = np.array([1+1j, 1+0j, 4.5, 3, 2, 2j])\n",
    "print(f\"Tableau : {tableau_donne}\")\n",
    "print(f\"Test de complexité (iscomplex) : {np.iscomplex(tableau_donne)}\")\n",
    "print(f\"Test de réels (isreal) : {np.isreal(tableau_donne)}\")\n",
    "# Test de scalaires pour chaque élément\n",
    "print(f\"Test de scalaires (isscalar) : {[np.isscalar(x) for x in tableau_donne]}\")"
   ]
  },
  {
   "cell_type": "markdown",
   "id": "d174eabd",
   "metadata": {},
   "source": [
    "9. Écrivez un programme NumPy pour tester si deux tableaux sont égaux, élément par élément, dans une certaine tolérance."
   ]
  },
  {
   "cell_type": "code",
   "execution_count": 9,
   "id": "dccadf6a",
   "metadata": {},
   "outputs": [
    {
     "name": "stdout",
     "output_type": "stream",
     "text": [
      "Tester si deux tableaux sont égaux élément par élément avec une tolérance :\n",
      "Tableau 1 : [1. 2. 3.]\n",
      "Tableau 2 : [1.     2.     3.0001]\n",
      "Égalité avec tolérance 0.001 : True\n"
     ]
    }
   ],
   "source": [
    "print(\"Tester si deux tableaux sont égaux élément par élément avec une tolérance :\")\n",
    "tableau1 = np.array([1.0, 2.0, 3.0])\n",
    "tableau2 = np.array([1.0, 2.0, 3.0001])\n",
    "tolerance = 0.001\n",
    "print(f\"Tableau 1 : {tableau1}\")\n",
    "print(f\"Tableau 2 : {tableau2}\")\n",
    "print(f\"Égalité avec tolérance {tolerance} : {np.allclose(tableau1, tableau2, atol=tolerance)}\")"
   ]
  },
  {
   "cell_type": "markdown",
   "id": "e9e5f714",
   "metadata": {},
   "source": [
    "10. Écrivez un programme NumPy pour effectuer une comparaison élémentaire (supérieur, supérieur_ou_égal, inférieur, inférieur_ou_égal) entre deux tableaux."
   ]
  },
  {
   "cell_type": "code",
   "execution_count": 10,
   "id": "5e38446f",
   "metadata": {},
   "outputs": [
    {
     "name": "stdout",
     "output_type": "stream",
     "text": [
      "Tableau 1 : [1 2 3]\n",
      "Tableau 2 : [4 5 6]\n",
      "Supérieur : [False False False]\n",
      "Supérieur ou égal : [False False False]\n",
      "Inferieur : [ True  True  True]\n",
      "Inferieur ou égal : [ True  True  True]\n"
     ]
    }
   ],
   "source": [
    "tableau1 = np.array([1, 2, 3])\n",
    "tableau2 = np.array([4, 5, 6])\n",
    "print(f\"Tableau 1 : {tableau1}\")\n",
    "print(f\"Tableau 2 : {tableau2}\")\n",
    "print(f\"Supérieur : {np.greater(tableau1, tableau2)}\")\n",
    "print(f\"Supérieur ou égal : {np.greater_equal(tableau1, tableau2)}\")\n",
    "print(f\"Inferieur : {np.less(tableau1, tableau2)}\")\n",
    "print(f\"Inferieur ou égal : {np.less_equal(tableau1, tableau2)}\")"
   ]
  },
  {
   "cell_type": "markdown",
   "id": "33d3ee68",
   "metadata": {},
   "source": [
    "11. Écrivez un programme NumPy pour effectuer une comparaison élémentaire (égalité stricte ou dans une tolérance) entre deux tableaux."
   ]
  },
  {
   "cell_type": "code",
   "execution_count": 11,
   "id": "87c112f3",
   "metadata": {},
   "outputs": [
    {
     "name": "stdout",
     "output_type": "stream",
     "text": [
      "Tableau 1 : [  72   79   85   90  150 -135  120  -10   60  100]\n",
      "Tableau 2 : [  72.         79.         85.         90.        150.       -135.\n",
      "  120.        -10.         60.        100.000001]\n",
      "Égalité stricte : False\n",
      "Égalité avec tolérance 1e-05 : True\n"
     ]
    }
   ],
   "source": [
    "tableau1 = np.array([72, 79, 85, 90, 150, -135, 120, -10, 60, 100])\n",
    "tableau2 = np.array([72, 79, 85, 90, 150, -135, 120, -10, 60, 100.000001])\n",
    "\n",
    "print(f\"Tableau 1 : {tableau1}\")\n",
    "print(f\"Tableau 2 : {tableau2}\")\n",
    "\n",
    "print(f\"Égalité stricte : {np.array_equal(tableau1, tableau2)}\")\n",
    "\n",
    "tolerance = 0.00001\n",
    "print(f\"Égalité avec tolérance {tolerance} : {np.allclose(tableau1, tableau2, atol=tolerance)}\")"
   ]
  },
  {
   "cell_type": "markdown",
   "id": "c0a7d28a",
   "metadata": {},
   "source": [
    "12. Écrivez un programme NumPy pour créer un tableau avec les valeurs 1, 7, 13, 105 et déterminer la taille mémoire qu’il occupe."
   ]
  },
  {
   "cell_type": "code",
   "execution_count": 12,
   "id": "82dc84d0",
   "metadata": {},
   "outputs": [
    {
     "name": "stdout",
     "output_type": "stream",
     "text": [
      "Tableau : [  1   7  13 105]\n",
      "Taille mémoire occupée : 32 octets\n"
     ]
    }
   ],
   "source": [
    "tableau = np.array([1, 7, 13, 105])\n",
    "print(f\"Tableau : {tableau}\")\n",
    "print(f\"Taille mémoire occupée : {tableau.nbytes} octets\")"
   ]
  },
  {
   "cell_type": "markdown",
   "id": "e88d0d6d",
   "metadata": {},
   "source": [
    "13. Écrivez un programme NumPy pour créer un tableau de 10 zéros, un autre de 10 uns, et un autre de 10 cinq."
   ]
  },
  {
   "cell_type": "code",
   "execution_count": 13,
   "id": "16fd6ebd",
   "metadata": {},
   "outputs": [
    {
     "name": "stdout",
     "output_type": "stream",
     "text": [
      "Tableau de 10 zéros : [0. 0. 0. 0. 0. 0. 0. 0. 0. 0.]\n",
      "Tableau de 10 uns : [1. 1. 1. 1. 1. 1. 1. 1. 1. 1.]\n",
      "Tableau de 10 cinq : [5. 5. 5. 5. 5. 5. 5. 5. 5. 5.]\n"
     ]
    }
   ],
   "source": [
    "tableau_zeros = np.zeros(10)\n",
    "tableau_uns = np.ones(10)\n",
    "tableau_cinq = np.full(10, 5.) # Ou bien np.ones(10) * 5\n",
    "print(f\"Tableau de 10 zéros : {tableau_zeros}\")\n",
    "print(f\"Tableau de 10 uns : {tableau_uns}\")\n",
    "print(f\"Tableau de 10 cinq : {tableau_cinq}\")"
   ]
  },
  {
   "cell_type": "markdown",
   "id": "bf85b73a",
   "metadata": {},
   "source": [
    "14. Écrivez un programme NumPy pour créer un tableau contenant les entiers de 30 à 70."
   ]
  },
  {
   "cell_type": "code",
   "execution_count": 14,
   "id": "a3d9412b",
   "metadata": {},
   "outputs": [
    {
     "name": "stdout",
     "output_type": "stream",
     "text": [
      "Tableau contenant les entiers de 30 à 70 : [30 31 32 33 34 35 36 37 38 39 40 41 42 43 44 45 46 47 48 49 50 51 52 53\n",
      " 54 55 56 57 58 59 60 61 62 63 64 65 66 67 68 69 70]\n"
     ]
    }
   ],
   "source": [
    "tableau = np.arange(30, 71)\n",
    "print(f\"Tableau contenant les entiers de 30 à 70 : {tableau}\")"
   ]
  },
  {
   "cell_type": "markdown",
   "id": "c0370b87",
   "metadata": {},
   "source": [
    "15. Écrivez un programme NumPy pour créer un tableau contenant uniquement les entiers pairs de 30 à 70."
   ]
  },
  {
   "cell_type": "code",
   "execution_count": 15,
   "id": "c1609e44",
   "metadata": {},
   "outputs": [
    {
     "name": "stdout",
     "output_type": "stream",
     "text": [
      "Tableau contenant les entiers pairs de 30 à 70 : [30 32 34 36 38 40 42 44 46 48 50 52 54 56 58 60 62 64 66 68 70]\n"
     ]
    }
   ],
   "source": [
    "tableau = np.arange(30, 71, 2)\n",
    "print(f\"Tableau contenant les entiers pairs de 30 à 70 : {tableau}\")"
   ]
  },
  {
   "cell_type": "markdown",
   "id": "2a72fb65",
   "metadata": {},
   "source": [
    "16. Écrivez un programme NumPy pour créer une matrice identité 3x3."
   ]
  },
  {
   "cell_type": "code",
   "execution_count": 16,
   "id": "ece8764e",
   "metadata": {},
   "outputs": [
    {
     "name": "stdout",
     "output_type": "stream",
     "text": [
      "Matrice identité 3x3 :\n",
      "[[1. 0. 0.]\n",
      " [0. 1. 0.]\n",
      " [0. 0. 1.]]\n"
     ]
    }
   ],
   "source": [
    "matrice_identite = np.identity(3)\n",
    "print(f\"Matrice identité 3x3 :\\n{matrice_identite}\")"
   ]
  },
  {
   "cell_type": "markdown",
   "id": "468ce43d",
   "metadata": {},
   "source": [
    "17. Écrivez un programme NumPy pour générer un nombre aléatoire entre 0 et 1."
   ]
  },
  {
   "cell_type": "code",
   "execution_count": 17,
   "id": "c0e2ecf4",
   "metadata": {},
   "outputs": [
    {
     "name": "stdout",
     "output_type": "stream",
     "text": [
      "Nombre aléatoire entre 0 et 1 : [0.56075951]\n"
     ]
    }
   ],
   "source": [
    "nombre_aleatoire = np.random.normal(0,1, 1)\n",
    "print(f\"Nombre aléatoire entre 0 et 1 : {nombre_aleatoire}\")"
   ]
  },
  {
   "cell_type": "markdown",
   "id": "7facc9dd",
   "metadata": {},
   "source": [
    "18. Écrivez un programme NumPy pour générer un tableau de 15 nombres aléatoires selon une distribution normale standard."
   ]
  },
  {
   "cell_type": "code",
   "execution_count": 18,
   "id": "fea0d7e1",
   "metadata": {},
   "outputs": [
    {
     "name": "stdout",
     "output_type": "stream",
     "text": [
      "Tableau de 15 nombres aléatoires selon une distribution normale standard : [ 0.0846086   0.88283682 -0.01334864 -0.75552283  0.36020277 -1.29415239\n",
      " -0.6267933  -0.38931792 -0.52887678  0.38804823  0.61893259 -0.52608513\n",
      " -2.0404551   1.71597232 -1.68349649]\n"
     ]
    }
   ],
   "source": [
    "nombre_aleatoire = np.random.normal(0,1, 15)\n",
    "print(f\"Tableau de 15 nombres aléatoires selon une distribution normale standard : {nombre_aleatoire}\")"
   ]
  },
  {
   "cell_type": "markdown",
   "id": "4cfa6f47",
   "metadata": {},
   "source": [
    "19. Écrivez un programme NumPy pour créer un vecteur de valeurs de 15 à 55, en affichant toutes sauf la première et la dernière."
   ]
  },
  {
   "cell_type": "code",
   "execution_count": 19,
   "id": "43561eae",
   "metadata": {},
   "outputs": [
    {
     "name": "stdout",
     "output_type": "stream",
     "text": [
      "Vecteur de valeurs de 15 à 55 : [15 16 17 18 19 20 21 22 23 24 25 26 27 28 29 30 31 32 33 34 35 36 37 38\n",
      " 39 40 41 42 43 44 45 46 47 48 49 50 51 52 53 54 55]\n",
      "Vecteur sans le premier et le dernier élément : [16 17 18 19 20 21 22 23 24 25 26 27 28 29 30 31 32 33 34 35 36 37 38 39\n",
      " 40 41 42 43 44 45 46 47 48 49 50 51 52 53 54]\n"
     ]
    }
   ],
   "source": [
    "vecteur = np.arange(15, 56)\n",
    "print(f\"Vecteur de valeurs de 15 à 55 : {vecteur}\")\n",
    "\n",
    "vecteur_sans_premier_dernier = vecteur[1:-1]\n",
    "print(f\"Vecteur sans le premier et le dernier élément : {vecteur_sans_premier_dernier}\")"
   ]
  },
  {
   "cell_type": "markdown",
   "id": "9cf17012",
   "metadata": {},
   "source": [
    "20. Écrivez un programme NumPy pour créer un tableau 3x4 et itérer sur ses éléments."
   ]
  },
  {
   "cell_type": "code",
   "execution_count": 20,
   "id": "b007e91a",
   "metadata": {},
   "outputs": [
    {
     "name": "stdout",
     "output_type": "stream",
     "text": [
      "Tableau 3x4 :\n",
      "[[10 11 12 13]\n",
      " [14 15 16 17]\n",
      " [18 19 20 21]]\n",
      "Itération sur les éléments du tableau 3x4 :\n",
      "10 11 12 13 14 15 16 17 18 19 20 21 "
     ]
    }
   ],
   "source": [
    "tableau = np.arange(10,22).reshape((3, 4))\n",
    "print(f\"Tableau 3x4 :\\n{tableau}\")\n",
    "\n",
    "print(\"Itération sur les éléments du tableau 3x4 :\")\n",
    "for i in np.nditer(tableau):\n",
    "    print(i, end=' ')"
   ]
  }
 ],
 "metadata": {
  "kernelspec": {
   "display_name": "Python 3",
   "language": "python",
   "name": "python3"
  },
  "language_info": {
   "codemirror_mode": {
    "name": "ipython",
    "version": 3
   },
   "file_extension": ".py",
   "mimetype": "text/x-python",
   "name": "python",
   "nbconvert_exporter": "python",
   "pygments_lexer": "ipython3",
   "version": "3.13.3"
  }
 },
 "nbformat": 4,
 "nbformat_minor": 5
}
