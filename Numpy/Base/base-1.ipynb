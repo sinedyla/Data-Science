{
 "cells": [
  {
   "cell_type": "markdown",
   "id": "19d28e21",
   "metadata": {},
   "source": [
    "# **Numpy - Base 1**"
   ]
  },
  {
   "cell_type": "markdown",
   "id": "bae54d54",
   "metadata": {},
   "source": [
    "**Importer NumPy en tant que np et voir la version**"
   ]
  },
  {
   "cell_type": "code",
   "execution_count": 5,
   "id": "f8496554",
   "metadata": {},
   "outputs": [],
   "source": [
    "import numpy as np"
   ]
  },
  {
   "cell_type": "code",
   "execution_count": 6,
   "id": "0b078ab6",
   "metadata": {},
   "outputs": [
    {
     "name": "stdout",
     "output_type": "stream",
     "text": [
      "2.3.2\n"
     ]
    }
   ],
   "source": [
    "print(np.__version__)"
   ]
  },
  {
   "cell_type": "markdown",
   "id": "c8822573",
   "metadata": {},
   "source": [
    "1. **Créer un tableau 1D de nombres de 0 à 9**"
   ]
  },
  {
   "cell_type": "code",
   "execution_count": 7,
   "id": "16df41f8",
   "metadata": {},
   "outputs": [
    {
     "data": {
      "text/plain": [
       "array([0, 1, 2, 3, 4, 5, 6, 7, 8, 9])"
      ]
     },
     "execution_count": 7,
     "metadata": {},
     "output_type": "execute_result"
    }
   ],
   "source": [
    "tableau = np.arange(10)\n",
    "tableau"
   ]
  },
  {
   "cell_type": "markdown",
   "id": "73d8bf54",
   "metadata": {},
   "source": [
    "2. **Créer un tableau NumPy 3×3 rempli de True**"
   ]
  },
  {
   "cell_type": "code",
   "execution_count": 8,
   "id": "784bc4b6",
   "metadata": {},
   "outputs": [
    {
     "data": {
      "text/plain": [
       "array([[ True,  True,  True],\n",
       "       [ True,  True,  True],\n",
       "       [ True,  True,  True]])"
      ]
     },
     "execution_count": 8,
     "metadata": {},
     "output_type": "execute_result"
    }
   ],
   "source": [
    "tableau_bool = np.full((3, 3), True)\n",
    "tableau_bool"
   ]
  },
  {
   "cell_type": "markdown",
   "id": "089fa02c",
   "metadata": {},
   "source": [
    "3."
   ]
  }
 ],
 "metadata": {
  "kernelspec": {
   "display_name": "Python 3",
   "language": "python",
   "name": "python3"
  },
  "language_info": {
   "codemirror_mode": {
    "name": "ipython",
    "version": 3
   },
   "file_extension": ".py",
   "mimetype": "text/x-python",
   "name": "python",
   "nbconvert_exporter": "python",
   "pygments_lexer": "ipython3",
   "version": "3.13.6"
  }
 },
 "nbformat": 4,
 "nbformat_minor": 5
}
