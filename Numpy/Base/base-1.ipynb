{
 "cells": [
  {
   "cell_type": "markdown",
   "id": "19d28e21",
   "metadata": {},
   "source": [
    "# Numpy - Base 1"
   ]
  },
  {
   "cell_type": "markdown",
   "id": "bae54d54",
   "metadata": {},
   "source": [
    "**Importer NumPy en tant que np et voir la version**"
   ]
  },
  {
   "cell_type": "code",
   "execution_count": 3,
   "id": "f8496554",
   "metadata": {},
   "outputs": [],
   "source": [
    "import numpy as np"
   ]
  },
  {
   "cell_type": "code",
   "execution_count": 4,
   "id": "0b078ab6",
   "metadata": {},
   "outputs": [
    {
     "name": "stdout",
     "output_type": "stream",
     "text": [
      "2.2.5\n"
     ]
    }
   ],
   "source": [
    "print(np.__version__)"
   ]
  },
  {
   "cell_type": "markdown",
   "id": "c8822573",
   "metadata": {},
   "source": [
    "**Exercice 1 :**"
   ]
  }
 ],
 "metadata": {
  "kernelspec": {
   "display_name": "Python 3",
   "language": "python",
   "name": "python3"
  },
  "language_info": {
   "codemirror_mode": {
    "name": "ipython",
    "version": 3
   },
   "file_extension": ".py",
   "mimetype": "text/x-python",
   "name": "python",
   "nbconvert_exporter": "python",
   "pygments_lexer": "ipython3",
   "version": "3.13.3"
  }
 },
 "nbformat": 4,
 "nbformat_minor": 5
}
